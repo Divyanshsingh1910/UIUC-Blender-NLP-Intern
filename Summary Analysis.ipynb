{
 "cells": [
  {
   "cell_type": "code",
   "execution_count": 4,
   "metadata": {},
   "outputs": [],
   "source": [
    "import os,json\n",
    "import numpy as np"
   ]
  },
  {
   "cell_type": "code",
   "execution_count": 2,
   "metadata": {},
   "outputs": [],
   "source": [
    "def print_nicely(text):\n",
    "    words=text.split()\n",
    "    count=0\n",
    "    line=\"\"\n",
    "    for word in words:\n",
    "        line = line + \" \"+word\n",
    "        count = count + 1\n",
    "        if count>10:\n",
    "            line = line + \" \\n\"\n",
    "            count=0\n",
    "    return line"
   ]
  },
  {
   "cell_type": "code",
   "execution_count": 3,
   "metadata": {},
   "outputs": [],
   "source": [
    "Response_dir=\"D:\\\\Blender NLP Intern\\\\Data\\Response Summarization\""
   ]
  },
  {
   "cell_type": "code",
   "execution_count": 20,
   "metadata": {},
   "outputs": [
    {
     "name": "stdout",
     "output_type": "stream",
     "text": [
      "143\n",
      "--------------------\n",
      " Describe overall the intents and different sides of these responses(not individually on each comment) on a video and indentify any potential type of propaganda : \n",
      "1. задолбали вы уже своей херней((!!\n",
      "--------------------------------------------------\n",
      "--------------------------------------------------\n",
      "Response:   The overall intent and different sides of these responses on a \n",
      " video are that many people have various opinions on it. Some \n",
      " people expressed admiration for the two leaders, some expressed disapproval and \n",
      " some expressed humor. There is potential propaganda here as some people \n",
      " expressed their support of Putin and their disapproval of Biden.\n"
     ]
    }
   ],
   "source": [
    "index=np.random.randint(0,400)\n",
    "with open(Response_dir+\"\\\\\"+\"file\"+str(index)+\".info.json\",'r') as f:\n",
    "    data = json.load(f)\n",
    "    print(index)\n",
    "    print('-'*20)\n",
    "    print(data['prompt'][:200]) \n",
    "    print('-'*50)\n",
    "    print('-'*50)\n",
    "    print(\"Response: \",print_nicely((data['response_summary'])))\n",
    "    null_summary=data['response_summary']"
   ]
  },
  {
   "cell_type": "code",
   "execution_count": null,
   "metadata": {},
   "outputs": [],
   "source": [
    "\"\"\"\n",
    " 1)There doesn't seem to be any type of propaganda.\n",
    "They also show support \n",
    " 2)for different sides, such as Joe Biden, Vladimir Putin, and the \n",
    " United States, and can be interpreted as a form of nationalistic \n",
    " propaganda.\n",
    " 3)There is no potential type of propaganda evident from these comments. \n",
    " 4)Some responses feature potential propaganda, such as the \n",
    " comment that Old Town Road is a \"gay song,\" suggesting that \n",
    " Putin is associated with the LGBTQ+ community\n",
    " 5)Some of the responses contain potential \n",
    " propaganda, such as #25, which is in favor of Russia and \n",
    " portrays it as a \"sacred country\"\n",
    " 6)There is a potential for propaganda in some \n",
    " of the responses, as some appear to be in support of \n",
    " Kim and Russia.\n",
    "\"\"\""
   ]
  }
 ],
 "metadata": {
  "kernelspec": {
   "display_name": "Python 3",
   "language": "python",
   "name": "python3"
  },
  "language_info": {
   "codemirror_mode": {
    "name": "ipython",
    "version": 3
   },
   "file_extension": ".py",
   "mimetype": "text/x-python",
   "name": "python",
   "nbconvert_exporter": "python",
   "pygments_lexer": "ipython3",
   "version": "3.10.4"
  },
  "orig_nbformat": 4
 },
 "nbformat": 4,
 "nbformat_minor": 2
}
